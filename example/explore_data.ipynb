{
 "cells": [
  {
   "cell_type": "markdown",
   "metadata": {},
   "source": [
    "# Exploring CoRe database"
   ]
  },
  {
   "cell_type": "code",
   "execution_count": 411,
   "metadata": {},
   "outputs": [],
   "source": [
    "%autoreload 2\n",
    "import pandas as pd\n",
    "import numpy as np\n",
    "import matplotlib.pyplot as plt\n",
    "import h5py\n",
    "import json\n",
    "import re\n",
    "import sys\n",
    "sys.path.append('../src/utils/')\n",
    "import utils\n",
    "from utils import get_run_filenames, load_index, load_metadata\n",
    "sys.path.append('../src/')\n",
    "from HDF5 import MyHDF5\n",
    "from eos import TabulatedEOS, PolytropicEOS\n",
    "\n",
    "params = {\"axes.grid\": True,\n",
    "        \"text.usetex\" : True,\n",
    "        \"font.family\" : \"serif\",\n",
    "        \"ytick.color\" : \"black\",\n",
    "        \"xtick.color\" : \"black\",\n",
    "        \"axes.labelcolor\" : \"black\",\n",
    "        \"axes.edgecolor\" : \"black\",\n",
    "        \"font.serif\" : [\"Computer Modern Serif\"],\n",
    "        \"xtick.labelsize\": 16,\n",
    "        \"ytick.labelsize\": 16,\n",
    "        \"axes.labelsize\": 16,\n",
    "        \"legend.fontsize\": 16,\n",
    "        \"legend.title_fontsize\": 16,\n",
    "        \"figure.titlesize\": 16}\n",
    "\n",
    "plt.rcParams.update(params)"
   ]
  },
  {
   "cell_type": "markdown",
   "metadata": {},
   "source": [
    "## General TODO"
   ]
  },
  {
   "cell_type": "markdown",
   "metadata": {},
   "source": [
    "- Check how to get EOS files and read from them"
   ]
  },
  {
   "cell_type": "markdown",
   "metadata": {},
   "source": [
    "## Preparation"
   ]
  },
  {
   "cell_type": "code",
   "execution_count": 412,
   "metadata": {},
   "outputs": [
    {
     "name": "stdout",
     "output_type": "stream",
     "text": [
      "{'database_key': 'BAM:0001', 'available_runs': 'R01, R02, R03, R04', 'simulation_name': '2B_1.350_1.350_0.00_0.00_0.038', 'binary_type': 'BNS', 'reference_bibkeys': 'Bernuzzi:2014owa', 'id_code': 'LORENE', 'id_type': 'Irrotational', 'id_mass': '2.699952e+00', 'id_rest_mass': '3.050133e+00', 'id_mass_ratio': '1.000000e+00', 'id_ADM_mass': '2.677624e+00', 'id_ADM_angularmomentum': '7.662564e+00', 'id_gw_frequency_Hz': '4.545056e+02', 'id_gw_frequency_Momega22': '3.797735e-02', 'id_eos': '2B', 'id_kappa2T': '2.376117e+01', 'id_Lambda': '1.267263e+02', 'id_eccentricity': '7.092541e-03', 'id_mass_starA': '1.349976e+00', 'id_rest_mass_starA': '1.525067e+00', 'id_spin_starA': '0, 0, 0', 'id_LoveNum_kell_starA': '6.899000e-02, 1.746000e-02, 5.990000e-03', 'id_Lambdaell_starA': '1.267263e+02, 1.524837e+02, 1.776546e+02', 'id_mass_starB': '1.349976e+00', 'id_rest_mass_starB': '1.525067e+00', 'id_spin_starB': '0, 0, 0', 'id_LoveNum_kell_starB': '6.899000e-02, 1.746000e-02, 5.990000e-03', 'id_Lambdaell_starB': '1.267263e+02, 1.524837e+02, 1.776546e+02'}\n"
     ]
    }
   ],
   "source": [
    "INDEX = load_index()\n",
    "# As an example, show the first entry of the index\n",
    "print(INDEX[\"BAM_0001\"])"
   ]
  },
  {
   "cell_type": "markdown",
   "metadata": {},
   "source": [
    "## Getting metadata of a run"
   ]
  },
  {
   "cell_type": "code",
   "execution_count": 413,
   "metadata": {},
   "outputs": [
    {
     "name": "stdout",
     "output_type": "stream",
     "text": [
      "available_runs:  ['R01', 'R02', 'R03', 'R04']\n",
      "Chosen run: R04\n",
      "49\n"
     ]
    },
    {
     "data": {
      "text/plain": [
       "{'database_key': 'BAM:0001:R04',\n",
       " 'simulation_name': '2B_1.350_1.350_0.00_0.00_0.038_0.186',\n",
       " 'binary_type': 'BNS',\n",
       " 'reference_bibkeys': 'Bernuzzi:2014kca',\n",
       " 'id_code': 'LORENE',\n",
       " 'id_type': 'Irrotational',\n",
       " 'id_mass': '2.699952e+00',\n",
       " 'id_rest_mass': '3.050133e+00',\n",
       " 'id_mass_ratio': '1.000000e+00',\n",
       " 'id_ADM_mass': '2.677624e+00',\n",
       " 'id_ADM_angularmomentum': '7.662564e+00',\n",
       " 'id_gw_frequency_Hz': '4.545056e+02',\n",
       " 'id_gw_frequency_Momega22': '3.797735e-02',\n",
       " 'id_eos': '2B',\n",
       " 'id_kappa2T': '2.376117e+01',\n",
       " 'id_Lambda': '1.267263e+02',\n",
       " 'id_eccentricity': '7.102151e-03',\n",
       " 'id_mass_starA': '1.349976e+00',\n",
       " 'id_rest_mass_starA': '1.525067e+00',\n",
       " 'id_spin_starA': '0, 0, 0',\n",
       " 'id_LoveNum_kell_starA': '6.899000e-02, 1.746000e-02, 5.990000e-03',\n",
       " 'id_Lambdaell_starA': '1.267263e+02, 1.524837e+02, 1.776546e+02',\n",
       " 'id_mass_starB': '1.349976e+00',\n",
       " 'id_rest_mass_starB': '1.525067e+00',\n",
       " 'id_spin_starB': '0, 0, 0',\n",
       " 'id_LoveNum_kell_starB': '6.899000e-02, 1.746000e-02, 5.990000e-03',\n",
       " 'id_Lambdaell_starB': '1.267263e+02, 1.524837e+02, 1.776546e+02',\n",
       " 'evolution_code': 'bam_12.04',\n",
       " 'grid_refinement_levels': '5',\n",
       " 'grid_refinement_levels_moving': '3',\n",
       " 'grid_refinement_levels_npoints': '128',\n",
       " 'grid_refinement_levels_moving_npoints': '64',\n",
       " 'grid_spacing_min': '1.860000e-01',\n",
       " 'grid_symmetries': 'bitant',\n",
       " 'grid_shells': 'yes',\n",
       " 'grid_shells_radial_npoints': '644',\n",
       " 'grid_shells_angular_npoints': '56',\n",
       " 'grid_conservative_amr': 'no',\n",
       " 'subgrid_model': '',\n",
       " 'metric_scheme': 'Z4c',\n",
       " 'metric_boundary_conditions': 'background',\n",
       " 'hydro_flux': 'LLF',\n",
       " 'hydro_reconstruction': 'WENOZ',\n",
       " 'hydro_atmosphere_level': '1.000000e-11',\n",
       " 'hydro_atmosphere_factor': '1.000000e+02',\n",
       " 'number_of_orbits': '12.6601072722',\n",
       " 'evolution_mol_scheme': 'RungeKutta4',\n",
       " 'eos_evolution_Gamma_thermal': '1.75',\n",
       " 'neutrino_scheme': ''}"
      ]
     },
     "execution_count": 413,
     "metadata": {},
     "output_type": "execute_result"
    }
   ],
   "source": [
    "test_run_name = \"BAM_0001\"\n",
    "INDEX[test_run_name]\n",
    "hdf5_filename, metadata_filename = get_run_filenames(INDEX, test_run_name)\n",
    "metadata = load_metadata(metadata_filename)\n",
    "print(len(metadata))\n",
    "metadata"
   ]
  },
  {
   "cell_type": "markdown",
   "metadata": {},
   "source": [
    "## Example: strain of HDF5 file"
   ]
  },
  {
   "cell_type": "code",
   "execution_count": 414,
   "metadata": {},
   "outputs": [
    {
     "name": "stdout",
     "output_type": "stream",
     "text": [
      "['energy', 'horizon', 'rh_22', 'rpsi4_22']\n",
      "{'energy': ['EJ_r00650.txt', 'EJ_r00700.txt', 'EJ_r00750.txt', 'EJ_r00800.txt', 'EJ_r00850.txt', 'EJ_r00900.txt'], 'horizon': ['horizon_0'], 'rh_22': ['Rh_l2_m2_r00650.txt', 'Rh_l2_m2_r00700.txt', 'Rh_l2_m2_r00750.txt', 'Rh_l2_m2_r00800.txt', 'Rh_l2_m2_r00850.txt', 'Rh_l2_m2_r00900.txt'], 'rpsi4_22': ['Rpsi4_l2_m2_r00650.txt', 'Rpsi4_l2_m2_r00700.txt', 'Rpsi4_l2_m2_r00750.txt', 'Rpsi4_l2_m2_r00800.txt', 'Rpsi4_l2_m2_r00850.txt', 'Rpsi4_l2_m2_r00900.txt']}\n",
      "Reading data OK\n",
      "rh_22\n",
      "2 2\n",
      "['Rh_l2_m2_r00650.txt', 'Rh_l2_m2_r00700.txt', 'Rh_l2_m2_r00750.txt', 'Rh_l2_m2_r00800.txt', 'Rh_l2_m2_r00850.txt', 'Rh_l2_m2_r00900.txt']\n"
     ]
    }
   ],
   "source": [
    "hdf5 = MyHDF5(hdf5_filename)\n",
    "print(hdf5.l, hdf5.m)\n",
    "print(hdf5.strain_filenames)"
   ]
  },
  {
   "cell_type": "code",
   "execution_count": 415,
   "metadata": {},
   "outputs": [
    {
     "name": "stdout",
     "output_type": "stream",
     "text": [
      "No radius specified or radius not in data, taking largest radius\n"
     ]
    },
    {
     "data": {
      "image/png": "[encoded data removed]",
      "text/plain": [
       "<Figure size 640x480 with 1 Axes>"
      ]
     },
     "metadata": {},
     "output_type": "display_data"
    }
   ],
   "source": [
    "t, h = hdf5.get_h()\n",
    "plt.plot(t, h.real)\n",
    "plt.show()"
   ]
  },
  {
   "cell_type": "markdown",
   "metadata": {},
   "source": [
    "## Equations of state"
   ]
  },
  {
   "cell_type": "code",
   "execution_count": 416,
   "metadata": {},
   "outputs": [],
   "source": [
    "eos_dir = \"/Users/Woute029/Documents/Code/CoRe_DB2/eos/\""
   ]
  },
  {
   "cell_type": "markdown",
   "metadata": {},
   "source": [
    "### LS220"
   ]
  },
  {
   "cell_type": "code",
   "execution_count": 417,
   "metadata": {},
   "outputs": [
    {
     "name": "stdout",
     "output_type": "stream",
     "text": [
      "pointsrho: 223, pointstemp: 136, pointsye: 50\n",
      "['cs2', 'density', 'depsdT_rho', 'dpdeps_rhoye', 'dpdrho_epsye', 'emissionRatesQloc_nua', 'emissionRatesQloc_nue', 'emissionRatesQloc_nux', 'emissionRatesRloc_nua', 'emissionRatesRloc_nue', 'emissionRatesRloc_nux', 'entropy', 'internalEnergy', 'kappa_abs_nua', 'kappa_abs_nue', 'kappa_abs_nux', 'pointsrho', 'pointstemp', 'pointsye', 'pressure', 'q_rho_ov_zt2_fermi_1_nua', 'q_rho_ov_zt2_fermi_1_nue', 'q_rho_ov_zt2_fermi_1_nux', 'r_rho_ov_zt_fermi_0_nua', 'r_rho_ov_zt_fermi_0_nue', 'r_rho_ov_zt_fermi_0_nux', 'temperature', 'ye', 'zeta_nua', 'zeta_nue', 'zeta_nux']\n"
     ]
    }
   ],
   "source": [
    "example_eos_file = f\"{eos_dir}ls220/\" + \"LS_220_01-Jul-2014.h5\" # Second part: which to choose?\n",
    "eos = TabulatedEOS(example_eos_file)\n",
    "eos.eos_data.keys()\n",
    "print(f\"pointsrho: {eos.pointsrho}, pointstemp: {eos.pointstemp}, pointsye: {eos.pointsye}\")\n",
    "print(eos.all_keys)"
   ]
  },
  {
   "cell_type": "markdown",
   "metadata": {},
   "source": [
    "### BHBLP"
   ]
  },
  {
   "cell_type": "code",
   "execution_count": 418,
   "metadata": {},
   "outputs": [
    {
     "name": "stdout",
     "output_type": "stream",
     "text": [
      "pointsrho: 234, pointstemp: 180, pointsye: 60\n",
      "['Abar', 'X3he', 'X4li', 'XL', 'Xa', 'Xd', 'Xh', 'Xn', 'Xp', 'Zbar', 'density', 'mass_factor', 'temperature', 'version', 'ye']\n"
     ]
    }
   ],
   "source": [
    "example_eos_file = f\"{eos_dir}bhblp/\" + \"BHB_lp_comp_14-Jul-2016.h5\"\n",
    "eos = TabulatedEOS(example_eos_file, extraction_keys=['density', 'temperature', 'ye'])\n",
    "eos.eos_data.keys()\n",
    "print(f\"pointsrho: {eos.pointsrho}, pointstemp: {eos.pointstemp}, pointsye: {eos.pointsye}\")\n",
    "print(eos.all_keys)"
   ]
  },
  {
   "cell_type": "markdown",
   "metadata": {},
   "source": [
    "### SFHo"
   ]
  },
  {
   "cell_type": "code",
   "execution_count": 419,
   "metadata": {},
   "outputs": [
    {
     "name": "stdout",
     "output_type": "stream",
     "text": [
      "pointsrho: 220, pointstemp: 180, pointsye: 60\n",
      "['cs2', 'density', 'depsdT_rho', 'dpdeps_rhoye', 'dpdrho_epsye', 'entropy', 'internalEnergy', 'mass_factor', 'pressure', 'temperature', 'version', 'ye']\n"
     ]
    }
   ],
   "source": [
    "example_eos_file = f\"{eos_dir}sfho/\" + \"SFHo_hydro_29-Jun-2015.h5\"\n",
    "eos = TabulatedEOS(example_eos_file)\n",
    "eos.eos_data.keys()\n",
    "print(f\"pointsrho: {eos.pointsrho}, pointstemp: {eos.pointstemp}, pointsye: {eos.pointsye}\")\n",
    "print(eos.all_keys)"
   ]
  },
  {
   "cell_type": "markdown",
   "metadata": {},
   "source": [
    "### DD2"
   ]
  },
  {
   "cell_type": "code",
   "execution_count": 420,
   "metadata": {},
   "outputs": [
    {
     "name": "stdout",
     "output_type": "stream",
     "text": [
      "pointsrho: 234, pointstemp: 180, pointsye: 60\n",
      "['Abar', 'Xa', 'Xh', 'Xn', 'Xp', 'Zbar', 'density', 'mass_factor', 'mu_e', 'mu_n', 'mu_p', 'temperature', 'version', 'ye']\n"
     ]
    }
   ],
   "source": [
    "example_eos_file = f\"{eos_dir}dd2/\" + \"DD2_DD2_weak_30-Mar-2015.h5\"\n",
    "eos = TabulatedEOS(example_eos_file)\n",
    "eos.eos_data.keys()\n",
    "print(f\"pointsrho: {eos.pointsrho}, pointstemp: {eos.pointstemp}, pointsye: {eos.pointsye}\")\n",
    "print(eos.all_keys)"
   ]
  },
  {
   "cell_type": "markdown",
   "metadata": {},
   "source": [
    "### Polytropic EOS"
   ]
  },
  {
   "cell_type": "code",
   "execution_count": 421,
   "metadata": {},
   "outputs": [],
   "source": [
    "eos_name = \"2B\"\n",
    "eos_path = f\"/Users/Woute029/Documents/Code/CoRe_DB2/eos/polytropic/{eos_name}.txt\""
   ]
  },
  {
   "cell_type": "code",
   "execution_count": 422,
   "metadata": {},
   "outputs": [
    {
     "name": "stdout",
     "output_type": "stream",
     "text": [
      "rho_th ['=', '[3.4936e-04,', '8.1147e-04,', '1.6191e-03]']\n",
      "a ['=', '[1.2025e-02,', '1.2025e-02,', '1.2025e-02]']\n",
      "e ['=', '[8.3267e-04,', '1.7294e-03]']\n",
      "K ['=', '[8.9493e-02,', '4.2802e+04,', '4.2802e+04,', '4.2802e+04]']\n",
      "Gamma ['=', '[1.3569e+00,', '3.0000e+00,', '3.0000e+00,', '3.0000e+00]']\n"
     ]
    }
   ],
   "source": [
    "polytropic = PolytropicEOS(\"2B\")"
   ]
  },
  {
   "cell_type": "code",
   "execution_count": 423,
   "metadata": {},
   "outputs": [
    {
     "data": {
      "text/plain": [
       "{'rho_th': [0.00034936, 0.00081147, 0.0016191],\n",
       " 'a': [0, 0.012025, 0.012025, 0.012025],\n",
       " 'e': [0.00083267, 0.0017294],\n",
       " 'K': [0.089493, 42802.0, 42802.0, 42802.0],\n",
       " 'Gamma': [1.3569, 3.0, 3.0, 3.0]}"
      ]
     },
     "execution_count": 423,
     "metadata": {},
     "output_type": "execute_result"
    }
   ],
   "source": [
    "polytropic.parameters"
   ]
  },
  {
   "cell_type": "markdown",
   "metadata": {},
   "source": [
    "We have loaded all the polytropic EOS in the EOS file:"
   ]
  },
  {
   "cell_type": "code",
   "execution_count": 424,
   "metadata": {},
   "outputs": [
    {
     "name": "stdout",
     "output_type": "stream",
     "text": [
      "dict_keys(['2B', '2H', 'ALF2', 'ENG', 'H4', 'MPA1', 'MS1', 'MS1b', 'SLy'])\n",
      "{'rho_th': [0.00011383, 0.00081147, 0.0016191], 'a': [0, 0.0080585, 0.0080585, 0.0080585], 'e': [0.0008902, 0.0022055], 'K': [0.089493, 270170.0, 270170.0, 270170.0], 'Gamma': [1.3569, 3.0, 3.0, 3.0]}\n"
     ]
    }
   ],
   "source": [
    "from eos import POLYTROPIC_EOS_DICT\n",
    "print(POLYTROPIC_EOS_DICT.keys())\n",
    "example_eos = POLYTROPIC_EOS_DICT[\"2H\"]\n",
    "print(example_eos.parameters)"
   ]
  },
  {
   "cell_type": "code",
   "execution_count": 425,
   "metadata": {},
   "outputs": [
    {
     "name": "stdout",
     "output_type": "stream",
     "text": [
      "rho_th [0.00011383, 0.00081147, 0.0016191]\n",
      "3\n",
      "a [0, 0.0080585, 0.0080585, 0.0080585]\n",
      "4\n",
      "e [0.0008902, 0.0022055]\n",
      "2\n",
      "K [0.089493, 270170.0, 270170.0, 270170.0]\n",
      "4\n",
      "Gamma [1.3569, 3.0, 3.0, 3.0]\n",
      "4\n"
     ]
    }
   ],
   "source": [
    "for key, value in example_eos.parameters.items():\n",
    "    print(key, value)\n",
    "    print(len(value))"
   ]
  },
  {
   "cell_type": "code",
   "execution_count": 426,
   "metadata": {},
   "outputs": [],
   "source": [
    "rho, pressure = example_eos.get_pressure()"
   ]
  },
  {
   "cell_type": "code",
   "execution_count": 429,
   "metadata": {},
   "outputs": [
    {
     "data": {
      "image/png": "[encoded data removed]",
      "text/plain": [
       "<Figure size 640x480 with 1 Axes>"
      ]
     },
     "metadata": {},
     "output_type": "display_data"
    }
   ],
   "source": [
    "plt.plot(rho, pressure)\n",
    "plt.xscale('log')\n",
    "plt.yscale('log')\n",
    "plt.xlabel(r\"$\\rho$ [g/cm$^3$]\") # TODO check units\n",
    "plt.ylabel(r\"$P$ [dyn/cm$^2$]\") # TODO check units\n",
    "plt.show()"
   ]
  },
  {
   "cell_type": "code",
   "execution_count": null,
   "metadata": {},
   "outputs": [],
   "source": []
  }
 ],
 "metadata": {
  "kernelspec": {
   "display_name": "NR_temperature",
   "language": "python",
   "name": "python3"
  },
  "language_info": {
   "codemirror_mode": {
    "name": "ipython",
    "version": 3
   },
   "file_extension": ".py",
   "mimetype": "text/x-python",
   "name": "python",
   "nbconvert_exporter": "python",
   "pygments_lexer": "ipython3",
   "version": "3.10.13"
  },
  "orig_nbformat": 4
 },
 "nbformat": 4,
 "nbformat_minor": 2
}
